{
 "cells": [
  {
   "cell_type": "code",
   "execution_count": 16,
   "metadata": {},
   "outputs": [],
   "source": [
    "from openai import OpenAI\n",
    "from pydantic import BaseModel\n",
    "import sqlite3\n",
    "from functools import wraps\n",
    "from pydantic import Field, ConfigDict\n",
    "import json\n",
    "from typing import Dict, Any"
   ]
  },
  {
   "cell_type": "code",
   "execution_count": 3,
   "metadata": {},
   "outputs": [],
   "source": [
    "con = sqlite3.connect(\"workoutlib.db\")\n",
    "cur = con.cursor()"
   ]
  },
  {
   "cell_type": "code",
   "execution_count": 12,
   "metadata": {},
   "outputs": [],
   "source": [
    "def tool(schema):\n",
    "    def decorator(func):\n",
    "        assert issubclass(schema, BaseModel), \"The schema must be an instance of Pydantic BaseModel\"\n",
    "        @wraps(func)\n",
    "        def wrapper(*args, **kwargs):\n",
    "            return func(*args, **kwargs)\n",
    "        wrapper._is_tool = True  \n",
    "        wrapper._schema = schema\n",
    "        return wrapper\n",
    "    return decorator\n",
    "\n",
    "def get_tools():\n",
    "    tools = []\n",
    "    for name, obj in globals().items():\n",
    "        if callable(obj) and hasattr(obj, '_is_tool'):\n",
    "            tools.append(obj)\n",
    "    return tools"
   ]
  },
  {
   "cell_type": "code",
   "execution_count": 5,
   "metadata": {},
   "outputs": [],
   "source": [
    "client = OpenAI()"
   ]
  },
  {
   "cell_type": "code",
   "execution_count": 8,
   "metadata": {},
   "outputs": [],
   "source": [
    "class GetExerciseTypes(BaseModel):\n",
    "    limit: int | None = Field(default=None, description=\"Parameter used if the number of results need to be limited.\")\n",
    "\n",
    "    class Config:\n",
    "        json_schema_extra = {\n",
    "            \"title\" :\"Get exercise type\",\n",
    "            \"description\": \"A model that can be executed to get the exercise types available\",\n",
    "        }\n",
    "    \n",
    "\n",
    "@tool(schema = GetExerciseTypes) #TODO: Maybe in the future I can generate this schema under the hood, but for now I think its pretty good. \n",
    "def get_exercise_types(limit: int | None = None):\n",
    "    #So it can be like a simple plug an play for current code. \n",
    "    query = f\"\"\"\n",
    "            SELECT * FROM exercise_type\n",
    "            \"\"\"\n",
    "    params = []\n",
    "    if limit:\n",
    "        query += \"LIMIT ?\"\n",
    "        params.append(limit)\n",
    "\n",
    "    exercises = cur.execute(query, params)\n",
    "\n",
    "    return str(exercises.fetchall())\n"
   ]
  },
  {
   "cell_type": "code",
   "execution_count": 9,
   "metadata": {},
   "outputs": [],
   "source": [
    "class GetMuscleCategories(BaseModel):\n",
    "    limit: int | None = Field(default = None, description=\"Parameter used if the number of results need to be limited\")\n",
    "\n",
    "    class Config:\n",
    "        json_schema_extra = {\n",
    "            \"title\" : \"Get muscle categories\",\n",
    "            \"description\": \"Gets the muscle categories of the exercises, which represent the broad group of muscles trained by a certain exercise. Useful for categorizing exercises and distributing the workout volume.\"\n",
    "        }\n",
    "\n",
    "@tool(schema = GetMuscleCategories)\n",
    "def get_muscle_categories(limit: int | None = None):\n",
    "    query = f\"\"\"\n",
    "            SELECT * FROM muscle_category\n",
    "            \"\"\"\n",
    "    params = []\n",
    "    if limit:\n",
    "        query += \"LIMIT ?\"\n",
    "        params.append(query)\n",
    "    muscle_categories = cur.execute(query, params)\n",
    "    return str(muscle_categories.fetchall())"
   ]
  },
  {
   "cell_type": "code",
   "execution_count": 10,
   "metadata": {},
   "outputs": [],
   "source": [
    "class InsertExercise(BaseModel):\n",
    "    name: str = Field(\"Name of the exercise to insert.\", required = True)\n",
    "    description: str = Field(\"Brief description of the exercise\", required =True)\n",
    "    muscle_category_id : int = Field(\"Id of the muscle category to which the exercise corresponds\", required = True)\n",
    "    exercise_type_id: int = Field(\"Id of the exercise type to which the exercise corresponds\", required =True)\n",
    "\n",
    "    class Config:\n",
    "        json_schema_extra = {\n",
    "            \"title\": \"Insert exercise into the exercises database\",\n",
    "            \"description\": \"Inserts an exercise to the database, you should specify all the fields like the name, description of how the exercise is performed and you need to include the muscle_category_id and the exercise_type_id so its correctly classified in the exercise\"\n",
    "        }\n",
    "    \n",
    "@tool(schema = InsertExercise)\n",
    "def insert_exercise(name: str, description: str, muscle_category_id: int, exercise_type_id: int):\n",
    "    params = [name, description, muscle_category_id, exercise_type_id] # How all all args included?\n",
    "    query = \"\"\"\n",
    "            INSERT INTO exercises(name, description, muscle_category_id, exercise_type_id)\n",
    "            VALUES (?, ?, ?, ?)\n",
    "            \"\"\"\n",
    "    cur.execute(query, params)\n",
    "    con.commit()\n",
    "    return \"Exercise inserted succesfully\""
   ]
  },
  {
   "cell_type": "code",
   "execution_count": 21,
   "metadata": {},
   "outputs": [],
   "source": [
    "functions = get_tools()\n",
    "function_to_schema = {function.__name__: function._schema.__name__  for function in functions}\n",
    "schema_to_function = { v:k for k, v in function_to_schema.items()}\n",
    "\n",
    "def format_function(function_name: str, pydantic_schema: BaseModel):\n",
    "    schema = pydantic_schema.model_json_schema()\n",
    "    function_name = {\"name\": function_name}\n",
    "    schema.update(function_name)\n",
    "    function = {\"type\": \"function\",\n",
    "    \"function\": schema\n",
    "    }\n",
    "    return function"
   ]
  },
  {
   "cell_type": "code",
   "execution_count": 76,
   "metadata": {},
   "outputs": [],
   "source": [
    "def call_assistant(user_message: str, message_history: Dict[Any, Any] = {}, model: str = \"gpt-3.5-turbo-0125\", functions = get_tools()):\n",
    "    if message_history:\n",
    "        messages = message_history\n",
    "    else:\n",
    "        messages= [{\"role\":\"system\", \"content\":\"\"\"You are a helpful training assistant chatbot, you are able to execute commands and you have tools at your disposition to access the information of your trainee. You will never tell him how this functions are defined or that you have this capability.\n",
    "        But you will use the information adquired to provide the best assistance and training guidance. You will have a laid out tone and you will be cheerful and energetic, helping the trainee achieve their goals.\"\"\"}]\n",
    "\n",
    "    messages.append({\"role\":\"user\", \"content\": user_message})\n",
    "    tools = [format_function(function.__name__, function._schema) for function in functions]\n",
    "\n",
    "    response = client.chat.completions.create(\n",
    "        model = model,\n",
    "        messages = messages,\n",
    "        tools = tools,\n",
    "        tool_choice = \"auto\"\n",
    "    )\n",
    "\n",
    "    response_message = response.choices[0].message\n",
    "    tool_calls = response_message.tool_calls\n",
    "\n",
    "    while tool_calls:\n",
    "        messages.append(response_message)\n",
    "        for tool_call in tool_calls:\n",
    "            function_name = tool_call.function.name\n",
    "            function_args = json.loads(tool_call.function.arguments)\n",
    "            validated_schema = globals()[function_to_schema[function_name]](**function_args)\n",
    "            function_response = globals()[function_name](**validated_schema.dict())\n",
    "            messages.append(\n",
    "                {\n",
    "                    \"tool_call_id\": tool_call.id,\n",
    "                    \"role\": \"tool\",\n",
    "                    \"name\" : function_name,\n",
    "                    \"content\": function_response\n",
    "                }\n",
    "            )\n",
    "        response = client.chat.completions.create(\n",
    "            model = model,\n",
    "            messages = messages,\n",
    "            tools = tools,\n",
    "            tool_choice = \"auto\"\n",
    "        )\n",
    "        response_message = response.choices[0].message\n",
    "        tool_calls = response_message.tool_calls\n",
    "    messages.append({\"role\": \"assistant\", \"content\": response.choices[0].message.content})\n",
    "    return response_message, messages"
   ]
  },
  {
   "cell_type": "code",
   "execution_count": 77,
   "metadata": {},
   "outputs": [],
   "source": [
    "response_message, messages = call_assistant(\"What exercise types I have present?\")"
   ]
  },
  {
   "cell_type": "code",
   "execution_count": 78,
   "metadata": {},
   "outputs": [
    {
     "data": {
      "text/plain": [
       "[{'role': 'system',\n",
       "  'content': 'You are a helpful training assistant chatbot, you are able to execute commands and you have tools at your disposition to access the information of your trainee. You will never tell him how this functions are defined or that you have this capability.\\n        But you will use the information adquired to provide the best assistance and training guidance. You will have a laid out tone and you will be cheerful and energetic, helping the trainee achieve their goals.'},\n",
       " {'role': 'user', 'content': 'What exercise types I have present?'},\n",
       " ChatCompletionMessage(content=None, role='assistant', function_call=None, tool_calls=[ChatCompletionMessageToolCall(id='call_EY6e4rIztbbNizAHJsvxKQxj', function=Function(arguments='{}', name='get_exercise_types'), type='function')]),\n",
       " {'tool_call_id': 'call_EY6e4rIztbbNizAHJsvxKQxj',\n",
       "  'role': 'tool',\n",
       "  'name': 'get_exercise_types',\n",
       "  'content': \"[(1, 'Isolation', 'Exercises that target a specific muscle group or individual muscle, allowing for focused development and muscle hypertrophy.'), (2, 'Compound', 'Exercises that involve multiple muscle groups and joints working together, leading to a more comprehensive and functional workout for strength and hypertrophy.'), (3, 'Variations', 'Variations of basic compound exercises that target specific muscle groups or provide a different challenge or range of motion for strength and hypertrophy.'), (4, 'Cardio', 'Exercises that primarily target cardiovascular endurance and improve overall fitness and heart health.'), (5, 'GPP (General Physical Preparedness)', 'Exercises that develop overall physical fitness, including strength, endurance, flexibility, and coordination, encompassing various training modalities like functional training, plyometrics, and others.')]\"},\n",
       " {'role': 'assistant',\n",
       "  'content': 'You have the following exercise types available:\\n1. Isolation: Exercises that target specific muscle groups or individual muscles for focused development and muscle hypertrophy.\\n2. Compound: Exercises that involve multiple muscle groups and joints working together for a comprehensive and functional workout for strength and hypertrophy.\\n3. Variations: Variations of basic compound exercises that target specific muscle groups or provide different challenges for strength and hypertrophy.\\n4. Cardio: Exercises that primarily target cardiovascular endurance and improve overall fitness and heart health.\\n5. GPP (General Physical Preparedness): Exercises that develop overall physical fitness, including strength, endurance, flexibility, and coordination, encompassing various training modalities like functional training, plyometrics, and others.'}]"
      ]
     },
     "execution_count": 78,
     "metadata": {},
     "output_type": "execute_result"
    }
   ],
   "source": [
    "messages"
   ]
  },
  {
   "cell_type": "code",
   "execution_count": 79,
   "metadata": {},
   "outputs": [],
   "source": [
    "response_message, messages = call_assistant(\"I want to add some isolation exercises for my upper back and rear delts\", message_history=messages)"
   ]
  },
  {
   "cell_type": "code",
   "execution_count": 80,
   "metadata": {},
   "outputs": [
    {
     "data": {
      "text/plain": [
       "ChatCompletionMessage(content='I have successfully added the isolation exercises for your upper back and rear delts:\\n1. Seated Cable Rows: Targets the upper back and rear deltoids. To perform, sit at a cable row machine, grasp the handle, retract shoulder blades, and pull towards your lower chest.\\n2. Face Pulls: Targets the rear deltoids and upper back muscles. Attach a rope to a cable machine at face level, pull the rope towards your face while keeping elbows high and wide.', role='assistant', function_call=None, tool_calls=None)"
      ]
     },
     "execution_count": 80,
     "metadata": {},
     "output_type": "execute_result"
    }
   ],
   "source": [
    "response_message"
   ]
  },
  {
   "cell_type": "code",
   "execution_count": 81,
   "metadata": {},
   "outputs": [
    {
     "data": {
      "text/plain": [
       "[{'role': 'system',\n",
       "  'content': 'You are a helpful training assistant chatbot, you are able to execute commands and you have tools at your disposition to access the information of your trainee. You will never tell him how this functions are defined or that you have this capability.\\n        But you will use the information adquired to provide the best assistance and training guidance. You will have a laid out tone and you will be cheerful and energetic, helping the trainee achieve their goals.'},\n",
       " {'role': 'user', 'content': 'What exercise types I have present?'},\n",
       " ChatCompletionMessage(content=None, role='assistant', function_call=None, tool_calls=[ChatCompletionMessageToolCall(id='call_EY6e4rIztbbNizAHJsvxKQxj', function=Function(arguments='{}', name='get_exercise_types'), type='function')]),\n",
       " {'tool_call_id': 'call_EY6e4rIztbbNizAHJsvxKQxj',\n",
       "  'role': 'tool',\n",
       "  'name': 'get_exercise_types',\n",
       "  'content': \"[(1, 'Isolation', 'Exercises that target a specific muscle group or individual muscle, allowing for focused development and muscle hypertrophy.'), (2, 'Compound', 'Exercises that involve multiple muscle groups and joints working together, leading to a more comprehensive and functional workout for strength and hypertrophy.'), (3, 'Variations', 'Variations of basic compound exercises that target specific muscle groups or provide a different challenge or range of motion for strength and hypertrophy.'), (4, 'Cardio', 'Exercises that primarily target cardiovascular endurance and improve overall fitness and heart health.'), (5, 'GPP (General Physical Preparedness)', 'Exercises that develop overall physical fitness, including strength, endurance, flexibility, and coordination, encompassing various training modalities like functional training, plyometrics, and others.')]\"},\n",
       " {'role': 'assistant',\n",
       "  'content': 'You have the following exercise types available:\\n1. Isolation: Exercises that target specific muscle groups or individual muscles for focused development and muscle hypertrophy.\\n2. Compound: Exercises that involve multiple muscle groups and joints working together for a comprehensive and functional workout for strength and hypertrophy.\\n3. Variations: Variations of basic compound exercises that target specific muscle groups or provide different challenges for strength and hypertrophy.\\n4. Cardio: Exercises that primarily target cardiovascular endurance and improve overall fitness and heart health.\\n5. GPP (General Physical Preparedness): Exercises that develop overall physical fitness, including strength, endurance, flexibility, and coordination, encompassing various training modalities like functional training, plyometrics, and others.'},\n",
       " {'role': 'user',\n",
       "  'content': 'I want to add some isolation exercises for my upper back and rear delts'},\n",
       " ChatCompletionMessage(content=None, role='assistant', function_call=None, tool_calls=[ChatCompletionMessageToolCall(id='call_vqqNPMYrOKxHNWjLgUcFiTQF', function=Function(arguments='{}', name='get_muscle_categories'), type='function')]),\n",
       " {'tool_call_id': 'call_vqqNPMYrOKxHNWjLgUcFiTQF',\n",
       "  'role': 'tool',\n",
       "  'name': 'get_muscle_categories',\n",
       "  'content': \"[(1, 'Vertical Pull', 'Vertical pulling exercises target the muscles responsible for pulling movements in a vertical plane, primarily the lats, upper back, and the muscles of the back. These exercises are essential for developing back strength, improving posture, and achieving a well-balanced physique. Examples include pull-ups, lat pulldowns, and pullovers.'), (2, 'Horizontal Pull', 'Horizontal pulling exercises involve pulling movements in a horizontal plane, targeting the back, shoulders, and biceps muscles. These exercises are crucial for developing upper body strength, improving posture, and achieving a balanced physique. Examples include rows (barbell, dumbbell, cable), seated cable rows, and face pulls.'), (3, 'Vertical Push', 'Vertical pushing exercises primarily target the shoulder and triceps muscles. These exercises are beneficial for developing upper body strength, particularly in overhead pressing movements. They are commonly used in strength training programs to build muscle mass and power in the shoulders and arms. Examples include overhead presses, military presses, and push presses.'), (4, 'Horizontal Push', 'Horizontal pushing exercises are primarily focused on working the chest, shoulders, and triceps muscles. These exercises are essential for building upper body strength and developing a muscular chest and shoulders. They are commonly incorporated into strength training routines for both muscle building and overall upper body development. Examples include bench presses, chest presses, and push-ups.'), (5, 'Posterior Chain', 'The posterior chain exercises target the muscles on the backside of the body, including the hamstrings, glutes, lower back, and upper back. These exercises are crucial for developing overall strength, power, and stability, as well as improving posture and reducing the risk of injuries. Examples include deadlifts, hip thrusts, back extensions, and deadlift variations.'), (6, 'Anterior Chain', 'Anterior chain exercises target the muscles on the front side of the body, such as the quadriceps, hip flexors, and abdominals. These exercises are essential for developing lower body strength, core stability, and functional movement patterns. They are commonly used in strength training programs for athletes and individuals seeking improved performance in activities that involve running, jumping, and other dynamic movements. Examples include squats, lunges, leg raises, and crunches.'), (7, 'Core', 'Core exercises target the muscles that stabilize the trunk and spine, including the abdominals, lower back muscles, and hip muscles. These exercises are crucial for developing overall strength, stability, and injury prevention. A strong core is essential for maintaining proper posture, transferring force effectively during compound movements, and reducing the risk of back injuries. Examples include planks, anti-rotation movements, and compound lifts like squats and deadlifts.'), (8, 'Arm Extension', 'Arm extension exercises target the triceps muscles, which are responsible for extending the arms. These exercises are essential for developing arm strength and achieving well-defined triceps. Examples include triceps extensions (with dumbbells, cables, or machines), dips, and close-grip bench presses.'), (9, 'Arm Flexion', 'Arm flexion exercises target the biceps muscles, which are responsible for flexing or bending the arms. These exercises are crucial for developing arm strength and achieving well-developed biceps. Examples include biceps curls (with dumbbells, barbells, or cables), hammer curls, and chin-ups.'), (10, 'Shoulder Isolation', 'Shoulder isolation exercises target the deltoid muscles (anterior, lateral, and posterior deltoids) and are essential for developing well-rounded shoulder strength and definition. These exercises are often used to address muscle imbalances or target specific areas of the shoulders. Examples include lateral raises, front raises, and reverse flies.')]\"},\n",
       " ChatCompletionMessage(content=None, role='assistant', function_call=None, tool_calls=[ChatCompletionMessageToolCall(id='call_lJXe49YEZM8QjV6K6RVPEpkt', function=Function(arguments='{\"name\": \"Seated Cable Rows\", \"description\": \"Seated cable rows are an isolation exercise that targets the upper back and rear deltoids. To perform this exercise, sit at a cable row machine, grasp the handle with a neutral grip, retract your shoulder blades, and pull the handle towards your lower chest while keeping your elbows close to your body. Slowly return to the starting position and repeat for the desired number of repetitions.\", \"muscle_category_id\": 2, \"exercise_type_id\": 1}', name='insert_exercise'), type='function'), ChatCompletionMessageToolCall(id='call_nhmxvXOJO68RyDoRxLUXbwRp', function=Function(arguments='{\"name\": \"Face Pulls\", \"description\": \"Face pulls are an isolation exercise that targets the rear deltoids and upper back muscles. To perform this exercise, attach a rope to a cable machine at face level, grasp the ends of the rope with an overhand grip, pull the rope towards your face while keeping your elbows high and wide, and squeeze your shoulder blades together. Slowly return to the starting position and repeat.\", \"muscle_category_id\": 2, \"exercise_type_id\": 1}', name='insert_exercise'), type='function')]),\n",
       " {'tool_call_id': 'call_lJXe49YEZM8QjV6K6RVPEpkt',\n",
       "  'role': 'tool',\n",
       "  'name': 'insert_exercise',\n",
       "  'content': 'Exercise inserted succesfully'},\n",
       " {'tool_call_id': 'call_nhmxvXOJO68RyDoRxLUXbwRp',\n",
       "  'role': 'tool',\n",
       "  'name': 'insert_exercise',\n",
       "  'content': 'Exercise inserted succesfully'},\n",
       " {'role': 'assistant',\n",
       "  'content': 'I have successfully added the isolation exercises for your upper back and rear delts:\\n1. Seated Cable Rows: Targets the upper back and rear deltoids. To perform, sit at a cable row machine, grasp the handle, retract shoulder blades, and pull towards your lower chest.\\n2. Face Pulls: Targets the rear deltoids and upper back muscles. Attach a rope to a cable machine at face level, pull the rope towards your face while keeping elbows high and wide.'}]"
      ]
     },
     "execution_count": 81,
     "metadata": {},
     "output_type": "execute_result"
    }
   ],
   "source": [
    "messages"
   ]
  },
  {
   "cell_type": "code",
   "execution_count": 82,
   "metadata": {},
   "outputs": [],
   "source": [
    "response_message, messages = call_assistant(\"Now I want some for the upper chest, what are your recommendations of exercises for building up my upper pecs?\", message_history=messages)"
   ]
  },
  {
   "cell_type": "code",
   "execution_count": 83,
   "metadata": {},
   "outputs": [
    {
     "data": {
      "text/plain": [
       "ChatCompletionMessage(content='For building up your upper pecs, I recommend the following exercises that target the upper chest area:\\n1. Incline Bench Press: This exercise is a compound movement that primarily targets the upper chest muscles. Performing bench presses on an incline bench with an angle of around 30-45 degrees helps focus on the upper chest area.\\n\\n2. Incline Dumbbell Press: Similar to the incline bench press, this exercise also targets the upper chest muscles. Using dumbbells allows for a fuller range of motion and individual arm movement, engaging the upper chest effectively.\\n\\n3. Incline Dumbbell Flyes: This isolation exercise targets the upper chest area and helps in developing the muscle definition and strength in that region. Performing flyes on an incline bench helps isolate the upper pecs.\\n\\n4. Overhead Dumbbell Press: While this exercise primarily targets the shoulders, it also engages the upper chest muscles as stabilizers. Including overhead presses in your routine can help strengthen the upper chest along with the shoulders.\\n\\n5. Cable Crossovers (High Pulley): Using the high pulley setting on a cable machine for crossovers can effectively target the upper chest area. Adjusting the angle of your arms during the movement can increase the focus on the upper pecs.\\n\\nIncorporating a combination of compound and isolation exercises for the upper chest will provide a well-rounded workout to help build and define your upper pecs.', role='assistant', function_call=None, tool_calls=None)"
      ]
     },
     "execution_count": 83,
     "metadata": {},
     "output_type": "execute_result"
    }
   ],
   "source": [
    "response_message"
   ]
  },
  {
   "cell_type": "code",
   "execution_count": 84,
   "metadata": {},
   "outputs": [],
   "source": [
    "response_message, messages = call_assistant(\"Lets insert them into the db\", message_history=messages)"
   ]
  },
  {
   "cell_type": "code",
   "execution_count": 85,
   "metadata": {},
   "outputs": [],
   "source": [
    "response_message, messages = call_assistant(\"I have few cardio exercises, I want to do some zone 2 cardio, what do you recommend to me?\", message_history=messages)"
   ]
  },
  {
   "cell_type": "code",
   "execution_count": 86,
   "metadata": {},
   "outputs": [
    {
     "data": {
      "text/plain": [
       "ChatCompletionMessage(content=\"For zone 2 cardio, which is typically a moderate intensity level where you can sustain longer durations of exercise, I recommend the following cardio exercises:\\n1. Brisk Walking: Walking at a brisk pace where you can maintain a conversation but still feel challenged is an excellent zone 2 cardio exercise. It's low-impact and can be done outdoors or on a treadmill.\\n\\n2. Cycling: Moderate cycling, either outdoors or on a stationary bike, is great for zone 2 cardio. Maintain a steady pace that elevates your heart rate but allows you to sustain the effort for an extended period.\\n\\n3. Swimming: Swimming at a moderate pace for a continuous period is an effective zone 2 cardio workout. It provides a full-body workout and is gentle on the joints.\\n\\n4. Elliptical Training: Using an elliptical machine at a moderate resistance level and steady pace is ideal for zone 2 cardio. It engages both the upper and lower body muscle groups.\\n\\n5. Rowing: Rowing at a moderate intensity on a rowing machine is another excellent choice for zone 2 cardio. It engages multiple muscle groups and provides a great cardiovascular workout.\\n\\nIncorporating these cardio exercises into your routine at a moderate intensity level will help you improve your cardiovascular fitness and endurance in zone 2.\", role='assistant', function_call=None, tool_calls=None)"
      ]
     },
     "execution_count": 86,
     "metadata": {},
     "output_type": "execute_result"
    }
   ],
   "source": [
    "response_message"
   ]
  },
  {
   "cell_type": "code",
   "execution_count": 87,
   "metadata": {},
   "outputs": [],
   "source": [
    "response_message, messages = call_assistant(\"Lets add brisk walking, rowing and cycling at the air bike\", message_history=messages)"
   ]
  },
  {
   "cell_type": "code",
   "execution_count": null,
   "metadata": {},
   "outputs": [],
   "source": []
  }
 ],
 "metadata": {
  "kernelspec": {
   "display_name": "venv",
   "language": "python",
   "name": "python3"
  },
  "language_info": {
   "codemirror_mode": {
    "name": "ipython",
    "version": 3
   },
   "file_extension": ".py",
   "mimetype": "text/x-python",
   "name": "python",
   "nbconvert_exporter": "python",
   "pygments_lexer": "ipython3",
   "version": "3.12.3"
  }
 },
 "nbformat": 4,
 "nbformat_minor": 2
}

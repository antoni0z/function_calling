{
 "cells": [
  {
   "cell_type": "code",
   "execution_count": 1,
   "metadata": {},
   "outputs": [],
   "source": [
    "from openai import OpenAI\n",
    "from pydantic import BaseModel\n",
    "import sqlite3\n",
    "from functools import wraps\n",
    "from pydantic import Field, ConfigDict\n",
    "import json\n",
    "from typing import Dict, Any"
   ]
  },
  {
   "cell_type": "code",
   "execution_count": 2,
   "metadata": {},
   "outputs": [],
   "source": [
    "con = sqlite3.connect(\"workoutlib.db\")\n",
    "cur = con.cursor()"
   ]
  },
  {
   "cell_type": "code",
   "execution_count": 3,
   "metadata": {},
   "outputs": [],
   "source": [
    "def tool(schema):\n",
    "    def decorator(func):\n",
    "        assert issubclass(schema, BaseModel), \"The schema must be an instance of Pydantic BaseModel\"\n",
    "        @wraps(func)\n",
    "        def wrapper(*args, **kwargs):\n",
    "            return func(*args, **kwargs)\n",
    "        wrapper._is_tool = True  \n",
    "        wrapper._schema = schema\n",
    "        return wrapper\n",
    "    return decorator\n",
    "\n",
    "def get_tools():\n",
    "    tools = []\n",
    "    for name, obj in globals().items():\n",
    "        if callable(obj) and hasattr(obj, '_is_tool'):\n",
    "            tools.append(obj)\n",
    "    return tools"
   ]
  },
  {
   "cell_type": "code",
   "execution_count": 4,
   "metadata": {},
   "outputs": [],
   "source": [
    "client = OpenAI()"
   ]
  },
  {
   "cell_type": "code",
   "execution_count": 5,
   "metadata": {},
   "outputs": [],
   "source": [
    "#TODO: Improve formatting of the response so it explicity mentions the id, name, descriptions in an explicit way for an llm. \n",
    "class GetExerciseTypes(BaseModel):\n",
    "    limit: int | None = Field(default=None, description=\"Parameter used if the number of results need to be limited.\")\n",
    "\n",
    "    class Config:\n",
    "        json_schema_extra = {\n",
    "            \"title\" :\"Get exercise type\",\n",
    "            \"description\": \"A model that can be executed to get the exercise types available\",\n",
    "        }\n",
    "    \n",
    "\n",
    "@tool(schema = GetExerciseTypes) #TODO: Maybe in the future I can generate this schema under the hood, but for now I think its pretty good. \n",
    "def get_exercise_types(limit: int | None = None):\n",
    "    #So it can be like a simple plug an play for current code. \n",
    "    query = f\"\"\"\n",
    "            SELECT * FROM exercise_type\n",
    "            \"\"\"\n",
    "    params = []\n",
    "    if limit:\n",
    "        query += \"LIMIT ?\"\n",
    "        params.append(limit)\n",
    "\n",
    "    exercises = cur.execute(query, params)\n",
    "\n",
    "    return str(exercises.fetchall())\n"
   ]
  },
  {
   "cell_type": "code",
   "execution_count": 6,
   "metadata": {},
   "outputs": [],
   "source": [
    "#TODO: Improve formatting of the response so it explicity mentions the id, name, descriptions in an explicit way for an llm. \n",
    "class GetMuscleCategories(BaseModel):\n",
    "    limit: int | None = Field(default = None, description=\"Parameter used if the number of results need to be limited\")\n",
    "\n",
    "    class Config:\n",
    "        json_schema_extra = {\n",
    "            \"title\" : \"Get movement categories\",\n",
    "            \"description\": \"Gets the movement categories of the exercises, which represent the broad group of muscles trained by a certain exercise. Useful for categorizing exercises and distributing the workout volume.\"\n",
    "        }\n",
    "\n",
    "@tool(schema = GetMuscleCategories)\n",
    "def get_muscle_categories(limit: int | None = None):\n",
    "    query = f\"\"\"\n",
    "            SELECT * FROM movement_category\n",
    "            \"\"\"\n",
    "    params = []\n",
    "    if limit:\n",
    "        query += \"LIMIT ?\"\n",
    "        params.append(query)\n",
    "    muscle_categories = cur.execute(query, params)\n",
    "    return str(muscle_categories.fetchall())"
   ]
  },
  {
   "cell_type": "code",
   "execution_count": 7,
   "metadata": {},
   "outputs": [],
   "source": [
    "#TODO: Improve formatting of the response so it explicity mentions the id, name, descriptions in an explicit way for an llm. \n",
    "class InsertExercise(BaseModel):\n",
    "    name: str = Field(\"Name of the exercise to insert.\", required = True)\n",
    "    description: str = Field(\"Brief description of the exercise\", required =True)\n",
    "    movement_category_id : int = Field(\"Id of the movement category to which the exercise corresponds. Movement categories represent groups of muscles worked by the exercise.\", required = True)\n",
    "    exercise_type_id: int = Field(\"Id of the exercise type to which the exercise corresponds\", required =True)\n",
    "\n",
    "    class Config:\n",
    "        json_schema_extra = {\n",
    "            \"title\": \"Insert exercise into the exercises database\",\n",
    "            \"description\": \"Inserts an exercise to the database, you should specify all the fields like the name, description of how the exercise is performed and you need to include the movement_category_id and the exercise_type_id so its correctly classified in the exercise\"\n",
    "        }\n",
    "    \n",
    "@tool(schema = InsertExercise)\n",
    "def insert_exercise(name: str, description: str, movement_category_id: int, exercise_type_id: int):\n",
    "    params = [name, description, movement_category_id, exercise_type_id] # How all all args included?\n",
    "    query = \"\"\"\n",
    "            INSERT INTO exercises(name, description, movement_category_id, exercise_type_id)\n",
    "            VALUES (?, ?, ?, ?)\n",
    "            \"\"\"\n",
    "    cur.execute(query, params)\n",
    "    con.commit()\n",
    "    return \"Exercise inserted succesfully\""
   ]
  },
  {
   "cell_type": "code",
   "execution_count": 8,
   "metadata": {},
   "outputs": [],
   "source": [
    "#TODO: Improve formatting of the response so it explicity mentions the id, name, descriptions in an explicit way for an llm. Add maybe also the category id and type id for better context. \n",
    "class GetExercises(BaseModel):\n",
    "    movement_category_id: int | None = Field(default = None, description=\"Movement catgegory id to which the exercise corresponds. If specifed it narrows down the results to exercises that correspond to that movement.\")\n",
    "    exercise_type_id: int | None = Field(default= None, description=\"Exercise type id to which the exercise corresponds. If specified it narrows down results to exercises that correspond to that type.\")\n",
    "    limit: int | None = Field(default = None, description=\"Parameter used if the number of results need to be limited\")\n",
    "    class Config:\n",
    "        json_schema_extra = {\n",
    "            \"title\": \"Get exercises from the database\",\n",
    "            \"description\": \"Get exercises from the database, and the name, movement category and description is returned. If explicitly asked for a movement_category or exercise_type filter by it and include the ids as parameters as there can be many exercises and its a best practice to narrow it down.\"\n",
    "        }\n",
    "\n",
    "\n",
    "\n",
    "@tool(schema = GetExercises)\n",
    "def get_exercises(movement_category_id: int = None, exercise_type_id: int = None, limit: int = None):\n",
    "    params = []\n",
    "    query = \"\"\"\n",
    "            SELECT e.name, m.name, e.description\n",
    "            FROM exercises AS e\n",
    "            JOIN movement_category AS m ON e.movement_category_id = m.id\n",
    "            \"\"\"\n",
    "    conditions = []\n",
    "    if movement_category_id:\n",
    "        conditions.append(\"movement_category_id = ?\")\n",
    "        params.append(movement_category_id)\n",
    "    if exercise_type_id:\n",
    "        conditions.append(\"exercise_type_id = ?\")\n",
    "        params.append(exercise_type_id)\n",
    "    if conditions:\n",
    "        query += \" WHERE \" + \" AND \".join(conditions)\n",
    "    if limit:\n",
    "        query += \" LIMIT ?\"\n",
    "        params.append(limit)\n",
    "    \n",
    "    exercises = cur.execute(query, params)\n",
    "    return str(exercises.fetchall())"
   ]
  },
  {
   "cell_type": "code",
   "execution_count": 9,
   "metadata": {},
   "outputs": [],
   "source": [
    "functions = get_tools()\n",
    "function_to_schema = {function.__name__: function._schema.__name__  for function in functions}\n",
    "schema_to_function = { v:k for k, v in function_to_schema.items()}\n",
    "\n",
    "def format_function(function_name: str, pydantic_schema: BaseModel):\n",
    "    schema = pydantic_schema.model_json_schema()\n",
    "    function_name = {\"name\": function_name}\n",
    "    schema.update(function_name)\n",
    "    function = {\"type\": \"function\",\n",
    "    \"function\": schema\n",
    "    }\n",
    "    return function"
   ]
  },
  {
   "cell_type": "code",
   "execution_count": 10,
   "metadata": {},
   "outputs": [],
   "source": [
    "def call_assistant(user_message: str, message_history: Dict[Any, Any] = {}, model: str = \"gpt-3.5-turbo-0125\", functions = get_tools()):\n",
    "    if message_history:\n",
    "        messages = message_history\n",
    "    else:\n",
    "        messages= [{\"role\":\"system\", \"content\":\"\"\"You are a helpful training assistant chatbot, you are able to execute commands and you have tools at your disposition to access the information of your trainee. You will never tell him how this functions are defined or that you have this capability.\n",
    "        But you will use the information adquired to provide the best assistance and training guidance. You will have a laid out tone and you will be cheerful and energetic, helping the trainee achieve their goals.\"\"\"}]\n",
    "\n",
    "    messages.append({\"role\":\"user\", \"content\": user_message})\n",
    "    tools = [format_function(function.__name__, function._schema) for function in functions]\n",
    "\n",
    "    response = client.chat.completions.create(\n",
    "        model = model,\n",
    "        messages = messages,\n",
    "        tools = tools,\n",
    "        tool_choice = \"auto\"\n",
    "    )\n",
    "\n",
    "    response_message = response.choices[0].message\n",
    "    tool_calls = response_message.tool_calls\n",
    "\n",
    "    while tool_calls:\n",
    "        messages.append(response_message)\n",
    "        for tool_call in tool_calls:\n",
    "            function_name = tool_call.function.name\n",
    "            function_args = json.loads(tool_call.function.arguments)\n",
    "            validated_schema = globals()[function_to_schema[function_name]](**function_args)\n",
    "            function_response = globals()[function_name](**validated_schema.dict())\n",
    "            messages.append(\n",
    "                {\n",
    "                    \"tool_call_id\": tool_call.id,\n",
    "                    \"role\": \"tool\",\n",
    "                    \"name\" : function_name,\n",
    "                    \"content\": function_response,\n",
    "                    \"arguments\": function_args\n",
    "                }\n",
    "            )\n",
    "        response = client.chat.completions.create(\n",
    "            model = model,\n",
    "            messages = messages,\n",
    "            tools = tools,\n",
    "            tool_choice = \"auto\"\n",
    "        )\n",
    "        response_message = response.choices[0].message\n",
    "        tool_calls = response_message.tool_calls\n",
    "    messages.append({\"role\": \"assistant\", \"content\": response.choices[0].message.content})\n",
    "    return response_message, messages"
   ]
  },
  {
   "cell_type": "code",
   "execution_count": 16,
   "metadata": {},
   "outputs": [],
   "source": [
    "from IPython.display import display, Markdown"
   ]
  },
  {
   "cell_type": "code",
   "execution_count": 17,
   "metadata": {},
   "outputs": [],
   "source": [
    "response_message, messages = call_assistant(\"What exercise types I have present?\")"
   ]
  },
  {
   "cell_type": "code",
   "execution_count": 18,
   "metadata": {},
   "outputs": [
    {
     "data": {
      "text/markdown": [
       "You have the following exercise types available:\n",
       "1. Isolation: Exercises that target a specific muscle group or individual muscle for focused development and hypertrophy.\n",
       "2. Compound: Exercises involving multiple muscle groups and joints for a comprehensive strength and hypertrophy workout.\n",
       "3. Variations: Different versions of basic compound exercises for specific muscle targeting or challenges.\n",
       "4. Cardio: Exercises focused on cardiovascular endurance and overall fitness.\n",
       "5. GPP (General Physical Preparedness): Exercises for overall physical fitness, including strength, endurance, flexibility, and coordination with various training modalities."
      ],
      "text/plain": [
       "<IPython.core.display.Markdown object>"
      ]
     },
     "metadata": {},
     "output_type": "display_data"
    }
   ],
   "source": [
    "display(Markdown(response_message.content))"
   ]
  },
  {
   "cell_type": "code",
   "execution_count": 19,
   "metadata": {},
   "outputs": [],
   "source": [
    "response_message, messages = call_assistant(\"What vertical pulling exercises I have available?\", message_history=messages, model = \"gpt-4o\")"
   ]
  },
  {
   "cell_type": "code",
   "execution_count": 21,
   "metadata": {},
   "outputs": [
    {
     "data": {
      "text/markdown": [
       "Here are the vertical pulling exercises you have available:\n",
       "\n",
       "1. **Weighted Pull-ups**: \n",
       "   *Description*: With a weight attached either via weighted belt or holding a dumbbell with your feet, perform a pull-up by hanging from a bar, pulling your body upward until your chin clears the bar, and then lowering yourself back down in a controlled manner.\n",
       "\n",
       "2. **Lat Pulldowns**:\n",
       "   *Description*: Using the lat pulldown machine, grip the bar with a wide overhand grip, pull the bar down toward your upper chest, focusing on squeezing the lats, then return to the starting position in a controlled manner.\n",
       "\n",
       "3. **One Arm Lat Pulldowns**:\n",
       "   *Description*: Using a single handle attachment on a lat pulldown machine, perform the exercise one arm at a time. Pull the handle down while focusing on engaging the lat muscle and then return to the starting position in a controlled manner. \n",
       "\n",
       "Ready to hit those lats? 💪😄"
      ],
      "text/plain": [
       "<IPython.core.display.Markdown object>"
      ]
     },
     "metadata": {},
     "output_type": "display_data"
    }
   ],
   "source": [
    "display(Markdown(response_message.content))"
   ]
  },
  {
   "cell_type": "code",
   "execution_count": 158,
   "metadata": {},
   "outputs": [],
   "source": [
    "response_message, messages = call_assistant(\"Get exercises filtered by horizontal pushing movement pattern\", model=\"gpt-4o\")"
   ]
  },
  {
   "cell_type": "code",
   "execution_count": 159,
   "metadata": {},
   "outputs": [
    {
     "data": {
      "text/plain": [
       "[{'role': 'system',\n",
       "  'content': 'You are a helpful training assistant chatbot, you are able to execute commands and you have tools at your disposition to access the information of your trainee. You will never tell him how this functions are defined or that you have this capability.\\n        But you will use the information adquired to provide the best assistance and training guidance. You will have a laid out tone and you will be cheerful and energetic, helping the trainee achieve their goals.'},\n",
       " {'role': 'user',\n",
       "  'content': 'Get exercises filtered by horizontal pushing movement pattern'},\n",
       " ChatCompletionMessage(content=None, role='assistant', function_call=None, tool_calls=[ChatCompletionMessageToolCall(id='call_GzfHGEYNA92iYnSATDGbLvDS', function=Function(arguments='{}', name='get_exercises'), type='function')]),\n",
       " {'tool_call_id': 'call_GzfHGEYNA92iYnSATDGbLvDS',\n",
       "  'role': 'tool',\n",
       "  'name': 'get_exercises',\n",
       "  'content': \"[('Face Pulls', 'Horizontal Pull', 'Attach a rope to a high pulley. Grip the rope with both hands and pull it towards your face while keeping your elbows high. Focus on squeezing your shoulder blades together.'), ('Reverse Flies', 'Shoulder Isolation', 'Using dumbbells or a machine, bend at the waist and lift the weights out to your sides with elbows slightly bent. Focus on squeezing your rear delts.'), ('Rear Delt Fly (Machine)', 'Shoulder Isolation', 'Sit on the machine facing the pads with handles at shoulder height. Push the handles back and outwards, squeezing your rear delts.'), ('Weighted Pull-ups', 'Vertical Pull', 'With a weight attached either via weighted belt or holding a dumbbell with your feet, perform a pull-up by hanging from a bar, pulling your body upward until your chin clears the bar, and then lowering yourself back down in a controlled manner.'), ('Lat Pulldowns', 'Vertical Pull', 'Using the lat pulldown machine, grip the bar with a wide overhand grip, pull the bar down toward your upper chest, focusing on squeezing the lats, then return to the starting position in a controlled manner.'), ('One Arm Lat Pulldowns', 'Vertical Pull', 'Using a single handle attachment on a lat pulldown machine, perform the exercise one arm at a time. Pull the handle down while focusing on engaging the lat muscle and then return to the starting position in a controlled manner.'), ('Incline Barbell Bench Press', 'Horizontal Push', 'Set an incline bench at about 30-45 degrees. Lie on the bench and press the barbell up from chest level until your arms are extended. Lower the barbell back to your chest in a controlled manner.'), ('Incline Dumbbell Flies', 'Horizontal Push', 'Set an incline bench at about 30-45 degrees. Holding a dumbbell in each hand, extend your arms above your chest, then lower the dumbbells out to your sides in a wide arc, feeling a stretch in your chest. Bring the dumbbells back together above your chest.'), ('Smith Machine Incline Bench Press', 'Horizontal Push', 'Set an incline bench in a Smith machine at about 30-45 degrees. Press the bar up from chest level until your arms are extended. Lower the bar back to your chest in a controlled manner.'), ('Peck Deck', 'Horizontal Push', 'Sit on the peck deck machine and grip the handles. Bring the handles together in front of your chest, squeezing your chest muscles. Return to the starting position in a controlled manner.'), ('Handstand Push-ups', 'Vertical Push', 'Perform a push-up position against a wall with your feet elevated so you are in an inverted position. Lower yourself towards the ground by bending your arms and then push back up.'), ('Barbell Press', 'Vertical Push', 'Stand or sit with a barbell at shoulder height. Press the weight overhead until your arms are fully extended. Lower the weight back to shoulder height in a controlled manner.'), ('Meadows Row', 'Horizontal Pull', 'Stand sideways next to a landmine or a barbell secured in a corner. Bend forward at the hips, grab the end of the barbell with one hand, and row the barbell towards your hip, squeezing your back muscles. Lower the barbell back to the starting position and repeat.'), ('Gironda Row', 'Horizontal Pull', 'Using a low pulley row machine, stand facing the machine with a wide grip on the bar. Row the bar towards your lower chest/upper abdomen while keeping the elbows flared out and focusing on squeezing the upper back and rear shoulder muscles. Return to the starting position in a controlled manner.')]\",\n",
       "  'arguments': {}},\n",
       " {'role': 'assistant',\n",
       "  'content': 'Here are the exercises that fall under the **Horizontal Push** movement pattern:\\n\\n1. **Incline Barbell Bench Press**:\\n   - **Description**: Set an incline bench at about 30-45 degrees. Lie on the bench and press the barbell up from chest level until your arms are extended. Lower the barbell back to your chest in a controlled manner.\\n\\n2. **Incline Dumbbell Flies**:\\n   - **Description**: Set an incline bench at about 30-45 degrees. Holding a dumbbell in each hand, extend your arms above your chest, then lower the dumbbells out to your sides in a wide arc, feeling a stretch in your chest. Bring the dumbbells back together above your chest.\\n\\n3. **Smith Machine Incline Bench Press**:\\n   - **Description**: Set an incline bench in a Smith machine at about 30-45 degrees. Press the bar up from chest level until your arms are extended. Lower the bar back to your chest in a controlled manner.\\n\\n4. **Peck Deck**:\\n   - **Description**: Sit on the peck deck machine and grip the handles. Bring the handles together in front of your chest, squeezing your chest muscles. Return to the starting position in a controlled manner.\\n\\nFeel free to ask if you need further details or assistance with anything else! 💪'}]"
      ]
     },
     "execution_count": 159,
     "metadata": {},
     "output_type": "execute_result"
    }
   ],
   "source": [
    "messages"
   ]
  },
  {
   "cell_type": "code",
   "execution_count": 160,
   "metadata": {},
   "outputs": [
    {
     "data": {
      "text/markdown": [
       "Here are the exercises that fall under the **Horizontal Push** movement pattern:\n",
       "\n",
       "1. **Incline Barbell Bench Press**:\n",
       "   - **Description**: Set an incline bench at about 30-45 degrees. Lie on the bench and press the barbell up from chest level until your arms are extended. Lower the barbell back to your chest in a controlled manner.\n",
       "\n",
       "2. **Incline Dumbbell Flies**:\n",
       "   - **Description**: Set an incline bench at about 30-45 degrees. Holding a dumbbell in each hand, extend your arms above your chest, then lower the dumbbells out to your sides in a wide arc, feeling a stretch in your chest. Bring the dumbbells back together above your chest.\n",
       "\n",
       "3. **Smith Machine Incline Bench Press**:\n",
       "   - **Description**: Set an incline bench in a Smith machine at about 30-45 degrees. Press the bar up from chest level until your arms are extended. Lower the bar back to your chest in a controlled manner.\n",
       "\n",
       "4. **Peck Deck**:\n",
       "   - **Description**: Sit on the peck deck machine and grip the handles. Bring the handles together in front of your chest, squeezing your chest muscles. Return to the starting position in a controlled manner.\n",
       "\n",
       "Feel free to ask if you need further details or assistance with anything else! 💪"
      ],
      "text/plain": [
       "<IPython.core.display.Markdown object>"
      ]
     },
     "metadata": {},
     "output_type": "display_data"
    }
   ],
   "source": [
    "display(Markdown(response_message.content))"
   ]
  },
  {
   "cell_type": "code",
   "execution_count": 84,
   "metadata": {},
   "outputs": [],
   "source": [
    "response_message, messages = call_assistant(\"Lets insert them into the db\", message_history=messages)"
   ]
  },
  {
   "cell_type": "code",
   "execution_count": 85,
   "metadata": {},
   "outputs": [],
   "source": [
    "response_message, messages = call_assistant(\"I have few cardio exercises, I want to do some zone 2 cardio, what do you recommend to me?\", message_history=messages)"
   ]
  },
  {
   "cell_type": "code",
   "execution_count": 86,
   "metadata": {},
   "outputs": [
    {
     "data": {
      "text/plain": [
       "ChatCompletionMessage(content=\"For zone 2 cardio, which is typically a moderate intensity level where you can sustain longer durations of exercise, I recommend the following cardio exercises:\\n1. Brisk Walking: Walking at a brisk pace where you can maintain a conversation but still feel challenged is an excellent zone 2 cardio exercise. It's low-impact and can be done outdoors or on a treadmill.\\n\\n2. Cycling: Moderate cycling, either outdoors or on a stationary bike, is great for zone 2 cardio. Maintain a steady pace that elevates your heart rate but allows you to sustain the effort for an extended period.\\n\\n3. Swimming: Swimming at a moderate pace for a continuous period is an effective zone 2 cardio workout. It provides a full-body workout and is gentle on the joints.\\n\\n4. Elliptical Training: Using an elliptical machine at a moderate resistance level and steady pace is ideal for zone 2 cardio. It engages both the upper and lower body muscle groups.\\n\\n5. Rowing: Rowing at a moderate intensity on a rowing machine is another excellent choice for zone 2 cardio. It engages multiple muscle groups and provides a great cardiovascular workout.\\n\\nIncorporating these cardio exercises into your routine at a moderate intensity level will help you improve your cardiovascular fitness and endurance in zone 2.\", role='assistant', function_call=None, tool_calls=None)"
      ]
     },
     "execution_count": 86,
     "metadata": {},
     "output_type": "execute_result"
    }
   ],
   "source": [
    "response_message"
   ]
  },
  {
   "cell_type": "code",
   "execution_count": 87,
   "metadata": {},
   "outputs": [],
   "source": [
    "response_message, messages = call_assistant(\"Lets add brisk walking, rowing and cycling at the air bike\", message_history=messages)"
   ]
  },
  {
   "cell_type": "code",
   "execution_count": null,
   "metadata": {},
   "outputs": [],
   "source": []
  }
 ],
 "metadata": {
  "kernelspec": {
   "display_name": "venv",
   "language": "python",
   "name": "python3"
  },
  "language_info": {
   "codemirror_mode": {
    "name": "ipython",
    "version": 3
   },
   "file_extension": ".py",
   "mimetype": "text/x-python",
   "name": "python",
   "nbconvert_exporter": "python",
   "pygments_lexer": "ipython3",
   "version": "3.12.3"
  }
 },
 "nbformat": 4,
 "nbformat_minor": 2
}

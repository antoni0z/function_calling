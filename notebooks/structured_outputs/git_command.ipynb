{
 "cells": [
  {
   "cell_type": "code",
   "execution_count": 14,
   "metadata": {},
   "outputs": [],
   "source": [
    "import openai\n",
    "import instructor\n",
    "from pydantic import BaseModel, Field\n",
    "from typing import List"
   ]
  },
  {
   "cell_type": "code",
   "execution_count": 15,
   "metadata": {},
   "outputs": [],
   "source": [
    "client = instructor.patch(openai.OpenAI())"
   ]
  },
  {
   "cell_type": "code",
   "execution_count": 32,
   "metadata": {},
   "outputs": [
    {
     "name": "stderr",
     "output_type": "stream",
     "text": [
      "Attempting to instrument while already instrumented\n"
     ]
    }
   ],
   "source": [
    "from phoenix.trace.openai import OpenAIInstrumentor\n",
    "\n",
    "OpenAIInstrumentor().instrument()"
   ]
  },
  {
   "cell_type": "code",
   "execution_count": 33,
   "metadata": {},
   "outputs": [],
   "source": [
    "class GitCommand(BaseModel):\n",
    "    chain_of_thought: str = Field(description= \"Thinks about what git command should be used in the context of the user question\")\n",
    "    description: str = Field(description=\"What this command does\")\n",
    "    command: str = Field(description= \"A valid git command\")"
   ]
  },
  {
   "cell_type": "code",
   "execution_count": 34,
   "metadata": {},
   "outputs": [],
   "source": [
    "class GitResponse(BaseModel):\n",
    "    \"\"\"Responds with a git command in the specified output\"\"\"\n",
    "    prediction: List[GitCommand]"
   ]
  },
  {
   "cell_type": "code",
   "execution_count": 35,
   "metadata": {},
   "outputs": [],
   "source": [
    "\n",
    "def git_classify(query: str) -> GitResponse:\n",
    "    return client.chat.completions.create(\n",
    "        model = \"gpt-3.5-turbo-0125\",\n",
    "        response_model = GitResponse,\n",
    "        messages = [\n",
    "            {\"role\":\"system\",\n",
    "             \"content\":\"You are a git expert, you will assist a user with the git strategy and questions. You will assume no previous git knowledge from user.\"\n",
    "             }\n",
    "            ,\n",
    "            {\n",
    "            \"role\": \"user\",\n",
    "            \"content\": f\"The user has this question: {query}\",\n",
    "            },\n",
    "        ]\n",
    "    )"
   ]
  },
  {
   "cell_type": "code",
   "execution_count": 37,
   "metadata": {},
   "outputs": [],
   "source": [
    "query = \"I want to see the last changes that have been made to the repo compared to the actual state with the branch dev and extort my friend about the changes it made\"\n",
    "result  = git_classify(query)"
   ]
  }
 ],
 "metadata": {
  "kernelspec": {
   "display_name": ".venv",
   "language": "python",
   "name": "python3"
  },
  "language_info": {
   "codemirror_mode": {
    "name": "ipython",
    "version": 3
   },
   "file_extension": ".py",
   "mimetype": "text/x-python",
   "name": "python",
   "nbconvert_exporter": "python",
   "pygments_lexer": "ipython3",
   "version": "3.11.5"
  }
 },
 "nbformat": 4,
 "nbformat_minor": 2
}

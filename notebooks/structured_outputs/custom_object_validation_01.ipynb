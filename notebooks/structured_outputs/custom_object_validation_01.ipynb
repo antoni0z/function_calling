{
 "cells": [
  {
   "cell_type": "markdown",
   "metadata": {},
   "source": [
    "In this notebook I explore custom object validation and retry logic with pydantic in the case an Object is incorrect. This is pretty interesting for LLMs and making sure you can get structured outputs for a use case with it. "
   ]
  },
  {
   "cell_type": "markdown",
   "metadata": {},
   "source": []
  }
 ],
 "metadata": {
  "language_info": {
   "name": "python"
  }
 },
 "nbformat": 4,
 "nbformat_minor": 2
}
